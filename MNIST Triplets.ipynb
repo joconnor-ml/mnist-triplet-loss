{
 "cells": [
  {
   "cell_type": "code",
   "execution_count": 1,
   "metadata": {},
   "outputs": [
    {
     "name": "stderr",
     "output_type": "stream",
     "text": [
      "Using TensorFlow backend.\n"
     ]
    },
    {
     "name": "stdout",
     "output_type": "stream",
     "text": [
      "x_train shape: (6000, 28, 28, 1)\n",
      "6000 (6000,) train samples\n",
      "1000 (1000,) test samples\n"
     ]
    }
   ],
   "source": [
    "from __future__ import print_function\n",
    "import keras\n",
    "from keras.datasets import mnist\n",
    "from keras.models import Sequential\n",
    "from keras.layers import Dense, Dropout, Flatten\n",
    "from keras.layers import Conv2D, MaxPooling2D\n",
    "from keras import backend as K\n",
    "\n",
    "# input image dimensions\n",
    "img_rows, img_cols = 28, 28\n",
    "\n",
    "# the data, shuffled and split between train and test sets\n",
    "(x_train, y_train), (x_test, y_test) = mnist.load_data()\n",
    "\n",
    "if K.image_data_format() == 'channels_first':\n",
    "    x_train = x_train.reshape(x_train.shape[0], 1, img_rows, img_cols)\n",
    "    x_test = x_test.reshape(x_test.shape[0], 1, img_rows, img_cols)\n",
    "    input_shape = (1, img_rows, img_cols)\n",
    "else:\n",
    "    x_train = x_train.reshape(x_train.shape[0], img_rows, img_cols, 1)\n",
    "    x_test = x_test.reshape(x_test.shape[0], img_rows, img_cols, 1)\n",
    "    input_shape = (img_rows, img_cols, 1)\n",
    "\n",
    "x_train = x_train.astype('float32')[::10]\n",
    "x_test = x_test.astype('float32')[::10]\n",
    "y_train = y_train[::10]\n",
    "y_test = y_test[::10]\n",
    "x_train /= 255\n",
    "x_test /= 255\n",
    "print('x_train shape:', x_train.shape)\n",
    "print(x_train.shape[0], y_train.shape, 'train samples')\n",
    "print(x_test.shape[0], y_test.shape, 'test samples')"
   ]
  },
  {
   "cell_type": "code",
   "execution_count": 2,
   "metadata": {
    "collapsed": true
   },
   "outputs": [],
   "source": [
    "def triplet_loss(X):\n",
    "    anchor, pos, neg = X\n",
    "    return K.sum(K.pow(anchor - pos, 2) - K.pow(anchor - neg, 2))\n",
    "\n",
    "def identity_loss(y_true, y_pred):\n",
    "    return K.mean(y_pred - 0 * y_true)"
   ]
  },
  {
   "cell_type": "code",
   "execution_count": 30,
   "metadata": {},
   "outputs": [
    {
     "name": "stderr",
     "output_type": "stream",
     "text": [
      "/home/joe/upwork/.env/lib/python3.5/site-packages/ipykernel_launcher.py:29: UserWarning: The `merge` function is deprecated and will be removed after 08/2017. Use instead layers from `keras.layers.merge`, e.g. `add`, `concatenate`, etc.\n",
      "/home/joe/upwork/.env/lib/python3.5/site-packages/keras/legacy/layers.py:460: UserWarning: The `Merge` layer is deprecated and will be removed after 08/2017. Use instead layers from `keras.layers.merge`, e.g. `add`, `concatenate`, etc.\n",
      "  name=name)\n"
     ]
    }
   ],
   "source": [
    "from keras.models import Model\n",
    "from keras.layers import Input, Embedding, merge\n",
    "from keras.optimizers import Adam\n",
    "\n",
    "embedding_length = 4\n",
    "\n",
    "digit_input = Input(shape=input_shape)\n",
    "x = Conv2D(64, (3, 3))(digit_input)\n",
    "x = Conv2D(64, (3, 3))(x)\n",
    "x = MaxPooling2D((2, 2))(x)\n",
    "x = Flatten()(x)\n",
    "out = Dense(embedding_length, activation=\"sigmoid\")(x)\n",
    "\n",
    "vision_model = Model(digit_input, out)\n",
    "\n",
    "anchor = Input(input_shape)\n",
    "anchor_out = vision_model(anchor)\n",
    "\n",
    "pos = Input(input_shape)\n",
    "pos_out = vision_model(pos)\n",
    "\n",
    "neg = Input(input_shape)\n",
    "neg_out = vision_model(neg)\n",
    "\n",
    "loss = merge(\n",
    "    [anchor_out, pos_out, neg_out],\n",
    "    mode=triplet_loss,\n",
    "    name='loss',\n",
    "    output_shape=(1, )\n",
    ")\n",
    "\n",
    "model = Model(inputs=[anchor, pos, neg], outputs=[loss])\n",
    "model.compile(loss=identity_loss, optimizer=Adam(lr=1e-4))"
   ]
  },
  {
   "cell_type": "code",
   "execution_count": 31,
   "metadata": {
    "collapsed": true
   },
   "outputs": [],
   "source": [
    "import numpy as np\n",
    "def generate_triplets():\n",
    "    i = 0\n",
    "    while True:        \n",
    "        i += 1\n",
    "        idx = np.random.randint(0, y_train.shape[0])\n",
    "        anchor, cls = x_train[[idx]], y_train[[idx]]\n",
    "        pos = x_train[y_train==cls][[i%(y_train==cls).sum()]]\n",
    "        neg = x_train[y_train!=cls][[i%(y_train==cls).sum()]]\n",
    "        yield ([anchor, pos, neg], cls)"
   ]
  },
  {
   "cell_type": "code",
   "execution_count": 32,
   "metadata": {},
   "outputs": [
    {
     "name": "stdout",
     "output_type": "stream",
     "text": [
      "Epoch 1/4\n",
      "512/512 [==============================] - 14s - loss: -0.6338    \n",
      "Epoch 2/4\n",
      "512/512 [==============================] - 16s - loss: -1.2328    \n",
      "Epoch 3/4\n",
      "512/512 [==============================] - 16s - loss: -1.2601    \n",
      "Epoch 4/4\n",
      "512/512 [==============================] - 16s - loss: -1.4071    \n"
     ]
    },
    {
     "data": {
      "text/plain": [
       "<keras.callbacks.History at 0x7fcd79fa8438>"
      ]
     },
     "execution_count": 32,
     "metadata": {},
     "output_type": "execute_result"
    }
   ],
   "source": [
    "model.fit_generator(generate_triplets(), steps_per_epoch=512, epochs=4)"
   ]
  },
  {
   "cell_type": "code",
   "execution_count": 33,
   "metadata": {
    "collapsed": true
   },
   "outputs": [],
   "source": [
    "test_model = Model(inputs=[anchor], outputs=[anchor_out])"
   ]
  },
  {
   "cell_type": "code",
   "execution_count": 37,
   "metadata": {},
   "outputs": [
    {
     "name": "stdout",
     "output_type": "stream",
     "text": [
      "[[ 1.  1.  0.  1.]] 7\n",
      "[[ 0.  0.  1.  0.]] 0\n",
      "[[ 1.  1.  0.  1.]] 9\n",
      "[[ 0.          0.          0.89999998  0.1       ]] 3\n",
      "[[ 1.  0.  0.  1.]] 1\n",
      "[[ 0.  1.  1.  0.]] 6\n",
      "[[ 1.  1.  0.  1.]] 7\n",
      "[[ 1.  1.  0.  1.]] 7\n",
      "[[ 1.  1.  0.  1.]] 7\n",
      "[[ 0.  0.  1.  0.]] 3\n"
     ]
    }
   ],
   "source": [
    "for i in range(10):\n",
    "    print(test_model.predict(x_test[[i]]).round(1), y_test[i])"
   ]
  },
  {
   "cell_type": "code",
   "execution_count": null,
   "metadata": {
    "collapsed": true
   },
   "outputs": [],
   "source": []
  }
 ],
 "metadata": {
  "kernelspec": {
   "display_name": "Python 3",
   "language": "python",
   "name": "python3"
  },
  "language_info": {
   "codemirror_mode": {
    "name": "ipython",
    "version": 3
   },
   "file_extension": ".py",
   "mimetype": "text/x-python",
   "name": "python",
   "nbconvert_exporter": "python",
   "pygments_lexer": "ipython3",
   "version": "3.5.2"
  }
 },
 "nbformat": 4,
 "nbformat_minor": 2
}
